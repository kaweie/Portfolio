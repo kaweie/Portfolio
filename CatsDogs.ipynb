{
 "cells": [
  {
   "cell_type": "code",
   "execution_count": 6,
   "metadata": {},
   "outputs": [],
   "source": [
    "import numpy as np\n",
    "import cv2\n",
    "import tensorflow\n",
    "import matplotlib.pyplot as plt\n",
    "import os\n",
    "from numpy.random import shuffle"
   ]
  },
  {
   "cell_type": "code",
   "execution_count": 7,
   "metadata": {},
   "outputs": [
    {
     "name": "stdout",
     "output_type": "stream",
     "text": [
      "[array([[0.6627451 , 0.68627451, 0.70980392, ..., 0.84313725, 0.82352941,\n",
      "        0.80392157],\n",
      "       [0.66666667, 0.69019608, 0.70980392, ..., 0.84705882, 0.83137255,\n",
      "        0.81568627],\n",
      "       [0.66666667, 0.69019608, 0.70980392, ..., 0.85098039, 0.84705882,\n",
      "        0.82352941],\n",
      "       ...,\n",
      "       [0.50980392, 0.52156863, 0.53333333, ..., 0.01176471, 0.01176471,\n",
      "        0.00784314],\n",
      "       [0.50196078, 0.50588235, 0.51764706, ..., 0.01176471, 0.01176471,\n",
      "        0.00784314],\n",
      "       [0.48627451, 0.50196078, 0.51372549, ..., 0.00784314, 0.00784314,\n",
      "        0.00784314]]), 0]\n"
     ]
    }
   ],
   "source": [
    "DIR = \"c:/Users/kaweie/Documents/PetImages\"\n",
    "categories = [\"Cat\", \"Dog\"]\n",
    "img_size = 70\n",
    "\n",
    "def make_train_data():\n",
    "    training_data = list()\n",
    "    i = 0\n",
    "    for categ in categories:\n",
    "        path = os.path.join(DIR, categ)\n",
    "        class_categ = categories.index(categ)\n",
    "        \n",
    "        for img in os.listdir(path):\n",
    "            i+=1\n",
    "            try:\n",
    "                img_array = cv2.imread(os.path.join(path,img),cv2.IMREAD_GRAYSCALE)\n",
    "                new_array = cv2.resize(img_array ,(img_size,img_size))\n",
    "                training_data.append([new_array/255.,class_categ])\n",
    "            except:\n",
    "                pass\n",
    "            \n",
    "        \n",
    "    #print(training_data)\n",
    "    print(training_data[0])\n",
    "    shuffle(training_data)\n",
    "    return training_data\n",
    "\n",
    "train_data = make_train_data()\n"
   ]
  },
  {
   "cell_type": "code",
   "execution_count": null,
   "metadata": {},
   "outputs": [],
   "source": [
    "train_data[0][1]"
   ]
  },
  {
   "cell_type": "code",
   "execution_count": 8,
   "metadata": {},
   "outputs": [],
   "source": [
    "X = np.array([features for features, labels in train_data])\n",
    "y = np.array([labels for features, labels in train_data])"
   ]
  },
  {
   "cell_type": "code",
   "execution_count": null,
   "metadata": {},
   "outputs": [],
   "source": [
    "X.shape"
   ]
  },
  {
   "cell_type": "code",
   "execution_count": 9,
   "metadata": {},
   "outputs": [],
   "source": [
    "X = X.reshape(-1,img_size,img_size,1)\n"
   ]
  },
  {
   "cell_type": "code",
   "execution_count": 10,
   "metadata": {},
   "outputs": [],
   "source": [
    "import pickle\n",
    "\n",
    "pickle_out = open(\"X.pickle\", \"wb\")\n",
    "pickle.dump(X,pickle_out)\n",
    "pickle_out.close()\n",
    "\n",
    "pickle_out = open(\"y.pickle\", \"wb\")\n",
    "pickle.dump(y,pickle_out)\n",
    "pickle_out.close()"
   ]
  }
 ],
 "metadata": {
  "kernelspec": {
   "display_name": "Python 3",
   "language": "python",
   "name": "python3"
  },
  "language_info": {
   "codemirror_mode": {
    "name": "ipython",
    "version": 3
   },
   "file_extension": ".py",
   "mimetype": "text/x-python",
   "name": "python",
   "nbconvert_exporter": "python",
   "pygments_lexer": "ipython3",
   "version": "3.6.7"
  }
 },
 "nbformat": 4,
 "nbformat_minor": 2
}
