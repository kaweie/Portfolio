{
 "cells": [
  {
   "cell_type": "code",
   "execution_count": 13,
   "metadata": {},
   "outputs": [],
   "source": [
    "import numpy as np\n",
    "import cv2\n",
    "import tensorflow\n",
    "import matplotlib.pyplot as plt\n",
    "import os\n",
    "from numpy.random import shuffle\n",
    "import pickle\n",
    "from tensorflow.keras import Sequential, optimizers\n",
    "from tensorflow.keras.layers import Conv2D, MaxPool2D, Dropout, Activation, Flatten, Dense"
   ]
  },
  {
   "cell_type": "markdown",
   "metadata": {},
   "source": [
    "# Load Data"
   ]
  },
  {
   "cell_type": "code",
   "execution_count": 14,
   "metadata": {},
   "outputs": [],
   "source": [
    "pickle_in = open(\"X.pickle\",\"rb\")\n",
    "X = pickle.load(pickle_in)\n",
    "pickle_in.close()\n",
    "\n",
    "pickle_in = open(\"y.pickle\",\"rb\")\n",
    "y = pickle.load(pickle_in)\n",
    "pickle_in.close()\n"
   ]
  },
  {
   "cell_type": "code",
   "execution_count": 15,
   "metadata": {},
   "outputs": [],
   "source": [
    "#I just want to shuffle the data differently every time so I am putting X and y into one list and then\n",
    "#I will separate them again. This is just so that we have a different shuffle every time\n",
    "\n",
    "concatenated = np.array([(X[i],y[i]) for i in range(y.shape[0])])\n",
    "shuffle(concatenated)\n",
    "X = np.array([features for features, labels in concatenated])\n",
    "y = np.array([labels for features, labels in concatenated])"
   ]
  },
  {
   "cell_type": "code",
   "execution_count": 4,
   "metadata": {},
   "outputs": [
    {
     "data": {
      "text/plain": [
       "(100, 100)"
      ]
     },
     "execution_count": 4,
     "metadata": {},
     "output_type": "execute_result"
    }
   ],
   "source": [
    "X[5].T[0].T.shape"
   ]
  },
  {
   "cell_type": "code",
   "execution_count": 16,
   "metadata": {},
   "outputs": [
    {
     "data": {
      "text/plain": [
       "1"
      ]
     },
     "execution_count": 16,
     "metadata": {},
     "output_type": "execute_result"
    },
    {
     "data": {
      "image/png": "[encoded data removed]",
      "text/plain": [
       "<Figure size 432x288 with 1 Axes>"
      ]
     },
     "metadata": {
      "needs_background": "light"
     },
     "output_type": "display_data"
    }
   ],
   "source": [
    "plt.imshow(X[7].T[0].T,cmap=\"gray\")\n",
    "y[7]"
   ]
  },
  {
   "cell_type": "code",
   "execution_count": null,
   "metadata": {},
   "outputs": [],
   "source": [
    "X.shape[1:]"
   ]
  },
  {
   "cell_type": "code",
   "execution_count": 21,
   "metadata": {},
   "outputs": [
    {
     "name": "stdout",
     "output_type": "stream",
     "text": [
      "Train on 22451 samples, validate on 2495 samples\n",
      "Epoch 1/10\n",
      "22451/22451 [==============================] - 471s 21ms/step - loss: 0.6509 - acc: 0.6054 - val_loss: 0.6068 - val_acc: 0.6721\n",
      "Epoch 2/10\n",
      "22451/22451 [==============================] - 369s 16ms/step - loss: 0.5662 - acc: 0.7079 - val_loss: 0.5327 - val_acc: 0.7275\n",
      "Epoch 3/10\n",
      "22451/22451 [==============================] - 287s 13ms/step - loss: 0.5324 - acc: 0.7332 - val_loss: 0.5087 - val_acc: 0.7507\n",
      "Epoch 4/10\n",
      "22451/22451 [==============================] - 299s 13ms/step - loss: 0.5133 - acc: 0.7507 - val_loss: 0.4907 - val_acc: 0.7579\n",
      "Epoch 5/10\n",
      "22451/22451 [==============================] - 305s 14ms/step - loss: 0.5016 - acc: 0.7540 - val_loss: 0.4817 - val_acc: 0.7695\n",
      "Epoch 6/10\n",
      "22451/22451 [==============================] - 300s 13ms/step - loss: 0.4910 - acc: 0.7644 - val_loss: 0.5120 - val_acc: 0.7491\n",
      "Epoch 7/10\n",
      "22451/22451 [==============================] - 310s 14ms/step - loss: 0.4819 - acc: 0.7685 - val_loss: 0.5086 - val_acc: 0.7575\n",
      "Epoch 8/10\n",
      "22451/22451 [==============================] - 305s 14ms/step - loss: 0.4796 - acc: 0.7710 - val_loss: 0.5113 - val_acc: 0.7459\n",
      "Epoch 9/10\n",
      "22451/22451 [==============================] - 311s 14ms/step - loss: 0.4704 - acc: 0.7746 - val_loss: 0.5270 - val_acc: 0.7427\n",
      "Epoch 10/10\n",
      "22451/22451 [==============================] - 304s 14ms/step - loss: 0.4697 - acc: 0.7741 - val_loss: 0.5105 - val_acc: 0.7587\n"
     ]
    },
    {
     "data": {
      "text/plain": [
       "<tensorflow.python.keras.callbacks.History at 0x2043c2a6f28>"
      ]
     },
     "execution_count": 21,
     "metadata": {},
     "output_type": "execute_result"
    }
   ],
   "source": [
    "model = Sequential()\n",
    "#optimizer = optimizers.Adam(lr=0.01, beta_1=0.9, beta_2=0.999, epsilon=None, decay=0.0, amsgrad=False)\n",
    "model.add(Conv2D(filters = 64,kernel_size=(3,3), input_shape = X.shape[1:]))\n",
    "model.add(Activation('relu'))\n",
    "model.add(MaxPool2D(31,strides = (3,3)))\n",
    "#model.add(Dropout(rate=.5))\n",
    "\n",
    "model.add(Conv2D(filters = 64,kernel_size = (3,3)))\n",
    "model.add(Activation('relu'))\n",
    "model.add(MaxPool2D(strides = (3,3)))\n",
    "#model.add(Dropout(rate=.5))\n",
    "\n",
    "model.add(Conv2D(filters = 64,kernel_size = (3,3))\n",
    "model.add(Activation('relu'))\n",
    "model.add(MaxPool2D(strides = (2,2)))\n",
    "#model.add(Dropout(rate=.3))\n",
    "\n",
    "model.add(Flatten())\n",
    "model.add(Dense(64))\n",
    "\n",
    "model.add(Dense(1))\n",
    "model.add(Activation('sigmoid'))\n",
    "\n",
    "model.compile(optimizer=\"adam\",\n",
    "              loss=\"binary_crossentropy\",\n",
    "             metrics=['accuracy'])\n",
    "model.fit(X,y,batch_size = 32, epochs = 10, validation_split = .1)"
   ]
  },
  {
   "cell_type": "code",
   "execution_count": 22,
   "metadata": {},
   "outputs": [],
   "source": [
    "model.save('64x3-CNN.model')"
   ]
  }
 ],
 "metadata": {
  "kernelspec": {
   "display_name": "Python 3",
   "language": "python",
   "name": "python3"
  },
  "language_info": {
   "codemirror_mode": {
    "name": "ipython",
    "version": 3
   },
   "file_extension": ".py",
   "mimetype": "text/x-python",
   "name": "python",
   "nbconvert_exporter": "python",
   "pygments_lexer": "ipython3",
   "version": "3.6.7"
  }
 },
 "nbformat": 4,
 "nbformat_minor": 2
}
